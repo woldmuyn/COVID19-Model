{
 "cells": [
  {
   "cell_type": "markdown",
   "metadata": {},
   "source": [
    "# Load required packages"
   ]
  },
  {
   "cell_type": "code",
   "execution_count": 8,
   "metadata": {},
   "outputs": [],
   "source": [
    "import pandas as pd\n",
    "import os\n",
    "import numpy as np\n",
    "from tqdm import tqdm\n",
    "import matplotlib.pyplot as plt"
   ]
  },
  {
   "cell_type": "markdown",
   "metadata": {},
   "source": [
    "# residence times"
   ]
  },
  {
   "cell_type": "markdown",
   "metadata": {},
   "source": [
    "## Load data"
   ]
  },
  {
   "cell_type": "code",
   "execution_count": 9,
   "metadata": {},
   "outputs": [],
   "source": [
    "# Names and location of datasets\n",
    "abs_dir = os.getcwd()\n",
    "rel_dir = '../../data/PHM/raw/UZG/'\n",
    "name_raw_list=['MZG_2016.xlsx', 'MZG_2017.xlsx','MZG_2018.xlsx', 'MZG_2019.xlsx', 'MZG_2020.xlsx', 'MZG_2021.xlsx']\n",
    "# Construct list of locations\n",
    "path_list=[]\n",
    "for idx,name in enumerate(name_raw_list):\n",
    "    path_list.append(os.path.join(abs_dir,rel_dir,name))\n",
    "# Location of results\n",
    "result_folder='../../data/PHM/interim/UZG/'\n",
    "result_name='MZG_residence_times.csv'\n",
    "result_path = os.path.join(abs_dir,result_folder,result_name)\n",
    "if not os.path.exists(os.path.join(abs_dir,result_folder)):\n",
    "    os.makedirs(os.path.join(abs_dir,result_folder))\n",
    "# Load datasets and merge them togheter\n",
    "df = pd.concat(\n",
    "    map(pd.read_excel, path_list))"
   ]
  },
  {
   "cell_type": "code",
   "execution_count": 10,
   "metadata": {},
   "outputs": [],
   "source": [
    "MDC_dict = {}\n",
    "keys = df['Pathologie - APR-MDC sleutel'].unique()\n",
    "for key in keys:    \n",
    "    name = df.loc[df['Pathologie - APR-MDC sleutel']==key].iloc[0]['Pathologie - APR-MDC naam (en)']\n",
    "    MDC_dict.update({key:name})"
   ]
  },
  {
   "cell_type": "code",
   "execution_count": 11,
   "metadata": {},
   "outputs": [
    {
     "data": {
      "text/plain": [
       "array(['01', '.', '06', '09', '23', '03', '00', '08', '02', '04', '12',\n",
       "       '05', 'AA', '25', '22', 'PP', '16', '07', '15', '17', '21', '18',\n",
       "       '19', '11', '10', '14', '13', '24', '20'], dtype=object)"
      ]
     },
     "execution_count": 11,
     "metadata": {},
     "output_type": "execute_result"
    }
   ],
   "source": [
    "keys"
   ]
  },
  {
   "cell_type": "code",
   "execution_count": 13,
   "metadata": {},
   "outputs": [],
   "source": [
    "# load csv module\n",
    "import csv\n",
    "\n",
    "# open file for writing, \"w\" is writing\n",
    "file_name = 'MDC_dict.csv'\n",
    "w = csv.writer(open(os.path.join(abs_dir,result_folder,file_name), \"w\",newline=''))\n",
    "\n",
    "# loop over dictionary keys and values\n",
    "for key, val in MDC_dict.items():\n",
    "\n",
    "    # write every key and value to file\n",
    "    w.writerow([key, val])"
   ]
  },
  {
   "cell_type": "markdown",
   "metadata": {},
   "source": [
    "## Format data"
   ]
  },
  {
   "cell_type": "code",
   "execution_count": 7,
   "metadata": {},
   "outputs": [
    {
     "name": "stdout",
     "output_type": "stream",
     "text": [
      "\tRemoved 218/572253 entries due to missing discharge date\n",
      "\tRemoved 0/572035 entries with stay_type 'M'\n",
      "\tRemoved 0/572035 entries with stay_type 'F'\n",
      "\tRemoved 192/572035 entries with stay_type 'L'\n",
      "\tRemoved 164/571843 entries with missing age group\n",
      "\tRemoved 57220/571679 entries because APR-MDC classification was missing\n",
      "\n"
     ]
    }
   ],
   "source": [
    "# Throw out names of MDC (can look this up online)\n",
    "del df['Pathologie - APR-MDC naam']\n",
    "del df['Pathologie - APR-MDC naam (en)']\n",
    "df.rename(columns={'Pathologie - APR-MDC sleutel': 'APR_MDC_key',\n",
    "                   'MZG Opnamedatum - tekst': 'intake_date',\n",
    "                   'MZG Ontslagdatum - tekst': 'discharge_date',\n",
    "                   'Bezoek Opnameleeftijd per 5': 'age_group',\n",
    "                   'Verblijf type - label': 'stay_type'}, inplace=True)\n",
    "# Remove missing discharge dates\n",
    "print('\\tRemoved {0}/{1} entries due to missing discharge date'.format(len(df['discharge_date'][df['discharge_date']=='No Date']), len(df)))\n",
    "df = df[df.discharge_date != 'No Date']\n",
    "# Parse dates\n",
    "df['intake_date'] = pd.to_datetime(df.intake_date, format='%d/%m/%Y')\n",
    "df['discharge_date'] = pd.to_datetime(df.discharge_date, format='%d/%m/%Y')\n",
    "# Replace stay types with their key\n",
    "mapping = {'H | Klassieke hospitalisatie': 'H',\n",
    "           'D | Andere daghospitalisatie': 'D',\n",
    "           'C | Chirurgisch dagziekenhuis': 'C',\n",
    "           'M | Tussentijdse registratie langdurig verblijf': 'M',\n",
    "           'F | Eerste registratie langdurig verblijf': 'F',\n",
    "           'L | Laatste registratie langdurig verblijf': 'L'}\n",
    "df.stay_type=df.stay_type.map(lambda x: mapping.get(x) if x else None)\n",
    "# Throw out categories M, F, L\n",
    "print(\"\\tRemoved {0}/{1} entries with stay_type 'M'\".format(len(df['stay_type'][df['stay_type']=='M']), len(df)))\n",
    "print(\"\\tRemoved {0}/{1} entries with stay_type 'F'\".format(len(df['stay_type'][df['stay_type']=='F']), len(df)))\n",
    "print(\"\\tRemoved {0}/{1} entries with stay_type 'L'\".format(len(df['stay_type'][df['stay_type']=='L']), len(df)))\n",
    "df = df[( (df.stay_type != 'L') & (df.stay_type != 'F') & (df.stay_type != 'M'))]\n",
    "# Replace age categories with a simpler format\n",
    "mapping={'Cat: 0 - 4': '0-4', 'Cat: 5 - 9': '5-9', 'Cat: 10 - 14': '10-14', 'Cat: 15 - 19': '15-19',\n",
    "         'Cat: 20 - 24': '20-24', 'Cat: 25 - 29': '25-29', 'Cat: 30 - 34': '30-34', 'Cat: 35 - 39': '35-39',\n",
    "         'Cat: 40 - 44': '40-44', 'Cat: 45 - 49': '45-49', 'Cat: 50 - 54': '50-54', 'Cat: 55 - 59': '55-59',\n",
    "         'Cat: 60 - 64': '60-64', 'Cat: 65 - 69': '65-69', 'Cat: 70 - 74': '70-74', 'Cat: 75 - 79': '75-79',\n",
    "         'Cat: 80 - 84': '80-84', 'Cat: 85 - 89': '85-89', 'Cat: 90 - 94': '90-94', 'Cat: 95+': '95-120'}\n",
    "df.age_group=df.age_group.map(lambda x: mapping.get(x) if x else None)\n",
    "# Throw out age group equal to nan\n",
    "l = len(df)\n",
    "df = df.dropna()\n",
    "print(\"\\tRemoved {0}/{1} entries with missing age group\".format(l-len(df), l))\n",
    "# Throw out missing APR-MDC classifications\n",
    "print(\"\\tRemoved {0}/{1} entries because APR-MDC classification was missing\\n\".format(len(df.APR_MDC_key[df.APR_MDC_key=='.']), len(df)))\n",
    "df = df[df.APR_MDC_key!='.']\n",
    "# Index on intake_date and sort\n",
    "df = df.set_index(['APR_MDC_key', 'age_group', 'stay_type']).sort_index()\n",
    "# Save lowest and highest intake date\n",
    "intake_min = df.intake_date.min()\n",
    "intake_max = df.intake_date.max()"
   ]
  },
  {
   "cell_type": "markdown",
   "metadata": {},
   "source": [
    "## Calculating residence times"
   ]
  },
  {
   "cell_type": "code",
   "execution_count": 77,
   "metadata": {},
   "outputs": [],
   "source": [
    "residence_times = (df['discharge_date']-df['intake_date'])/pd.Timedelta(days=1)\n",
    "mean_residence_times = df.groupby(by=['APR_MDC_key','age_group','stay_type']).apply(lambda x: (x['discharge_date'] - x['intake_date']).mean()/pd.Timedelta(days=1))"
   ]
  },
  {
   "cell_type": "markdown",
   "metadata": {},
   "source": [
    "## Save result"
   ]
  },
  {
   "cell_type": "code",
   "execution_count": 78,
   "metadata": {},
   "outputs": [],
   "source": [
    "residence_times.to_csv(result_path)"
   ]
  },
  {
   "cell_type": "markdown",
   "metadata": {},
   "source": [
    "# hospitalizations per day"
   ]
  },
  {
   "cell_type": "code",
   "execution_count": 79,
   "metadata": {},
   "outputs": [],
   "source": [
    "data = df[((df['intake_date']<pd.Timestamp('2020-01-01'))&(df['intake_date']>=pd.Timestamp('2016-01-01')))]\n",
    "data = data.groupby(by='APR_MDC_key')['intake_date'].value_counts()\n",
    "data.rename('hospitalizations',inplace=True)\n",
    "data=pd.DataFrame(data)\n",
    "\n",
    "data['week_number'] = pd.to_datetime(data.index.get_level_values('intake_date').values).isocalendar().week.values\n",
    "data['day_number'] = pd.to_datetime(data.index.get_level_values('intake_date').values).isocalendar().day.values\n",
    "hospitalizations_per_day = data.groupby(by=['APR_MDC_key','week_number','day_number']).median()\n",
    "for disease in hospitalizations_per_day.index.get_level_values('APR_MDC_key').unique():\n",
    "    for week in hospitalizations_per_day.index.get_level_values('week_number').unique():\n",
    "        for day in hospitalizations_per_day.index.get_level_values('day_number').unique():\n",
    "            try:\n",
    "                hospitalizations_per_day.loc[disease,week,day]\n",
    "            except:\n",
    "                hospitalizations_per_day.loc[disease,week,day]=0\n",
    "hospitalizations_per_day.to_csv(os.path.join(abs_dir,result_folder,'MZG_Hospitalizations_per_day.csv'))"
   ]
  },
  {
   "cell_type": "markdown",
   "metadata": {},
   "source": [
    "# covid hospitalizations per day"
   ]
  },
  {
   "cell_type": "code",
   "execution_count": 80,
   "metadata": {},
   "outputs": [],
   "source": [
    "data = df[((df['intake_date']>=pd.Timestamp('2020-01-01')))]\n",
    "data = data.loc['04',slice(None),slice(None)]\n",
    "data_count = data['intake_date'].value_counts()\n",
    "data_count.rename('hospitalizations',inplace=True)\n",
    "data_count=pd.DataFrame(data_count)\n",
    "covid_hospitalizations = data_count.copy()\n",
    "baseline = hospitalizations_per_day.loc['04',slice(None),slice(None)]\n",
    "for date in data_count.index.get_level_values(0):\n",
    "    week = date.isocalendar().week\n",
    "    day = date.isocalendar().weekday\n",
    "    if data_count.loc[date].values>baseline.loc[week,day].values:\n",
    "        covid_hospitalizations.loc[date]=data_count.loc[date]-baseline.loc[week,day]\n",
    "    else:\n",
    "        covid_hospitalizations.loc[date]=0\n",
    "covid_hospitalizations = covid_hospitalizations.sort_index()\n",
    "covid_hospitalizations.to_csv(os.path.join(abs_dir,result_folder,'MZG_covid_hospitalizations_per_day.csv'))\n"
   ]
  },
  {
   "cell_type": "code",
   "execution_count": 81,
   "metadata": {},
   "outputs": [
    {
     "data": {
      "image/png": "[encoded data removed]",
      "text/plain": [
       "<Figure size 640x480 with 1 Axes>"
      ]
     },
     "metadata": {},
     "output_type": "display_data"
    }
   ],
   "source": [
    "time = covid_hospitalizations.index.get_level_values(0)\n",
    "covid = covid_hospitalizations.values\n",
    "fig,ax = plt.subplots()\n",
    "ax.plot(time,covid)\n",
    "ax.xaxis.set_major_locator(plt.MaxNLocator(5))\n",
    "plt.show()"
   ]
  },
  {
   "cell_type": "markdown",
   "metadata": {},
   "source": [
    "# Baseline hospitalizations"
   ]
  },
  {
   "cell_type": "code",
   "execution_count": 82,
   "metadata": {},
   "outputs": [
    {
     "name": "stdout",
     "output_type": "stream",
     "text": [
      "\n",
      "(1) Loading intermediate dataset\n",
      "\n"
     ]
    },
    {
     "ename": "KeyboardInterrupt",
     "evalue": "",
     "output_type": "error",
     "traceback": [
      "\u001b[1;31m---------------------------------------------------------------------------\u001b[0m",
      "\u001b[1;31mKeyboardInterrupt\u001b[0m                         Traceback (most recent call last)",
      "\u001b[1;32md:\\GitHub\\COVID19-Model\\notebooks\\scratch\\woldmuyn_postponed_healthcare_data_transformation.ipynb Cell 20\u001b[0m in \u001b[0;36m<cell line: 13>\u001b[1;34m()\u001b[0m\n\u001b[0;32m     <a href='vscode-notebook-cell:/d%3A/GitHub/COVID19-Model/notebooks/scratch/woldmuyn_postponed_healthcare_data_transformation.ipynb#X22sZmlsZQ%3D%3D?line=10'>11</a>\u001b[0m result_folder \u001b[39m=\u001b[39m  \u001b[39m'\u001b[39m\u001b[39m../../data/interim/QALY_model/postponement_non_covid_care/UZG/2020_2021_normalized.csv\u001b[39m\u001b[39m'\u001b[39m\n\u001b[0;32m     <a href='vscode-notebook-cell:/d%3A/GitHub/COVID19-Model/notebooks/scratch/woldmuyn_postponed_healthcare_data_transformation.ipynb#X22sZmlsZQ%3D%3D?line=11'>12</a>\u001b[0m \u001b[39m# Load data\u001b[39;00m\n\u001b[1;32m---> <a href='vscode-notebook-cell:/d%3A/GitHub/COVID19-Model/notebooks/scratch/woldmuyn_postponed_healthcare_data_transformation.ipynb#X22sZmlsZQ%3D%3D?line=12'>13</a>\u001b[0m df \u001b[39m=\u001b[39m pd\u001b[39m.\u001b[39;49mread_csv(os\u001b[39m.\u001b[39;49mpath\u001b[39m.\u001b[39;49mjoin(abs_dir, rel_dir), index_col\u001b[39m=\u001b[39;49m[\u001b[39m0\u001b[39;49m,\u001b[39m1\u001b[39;49m,\u001b[39m2\u001b[39;49m,\u001b[39m3\u001b[39;49m], parse_dates\u001b[39m=\u001b[39;49m\u001b[39mTrue\u001b[39;49;00m)\n\u001b[0;32m     <a href='vscode-notebook-cell:/d%3A/GitHub/COVID19-Model/notebooks/scratch/woldmuyn_postponed_healthcare_data_transformation.ipynb#X22sZmlsZQ%3D%3D?line=13'>14</a>\u001b[0m \u001b[39m# Sum to weekly frequency to reduce noise in the dataset\u001b[39;00m\n\u001b[0;32m     <a href='vscode-notebook-cell:/d%3A/GitHub/COVID19-Model/notebooks/scratch/woldmuyn_postponed_healthcare_data_transformation.ipynb#X22sZmlsZQ%3D%3D?line=14'>15</a>\u001b[0m df \u001b[39m=\u001b[39m df\u001b[39m.\u001b[39mreset_index()\u001b[39m.\u001b[39mdropna()\u001b[39m.\u001b[39mgroupby(by\u001b[39m=\u001b[39m[\u001b[39m'\u001b[39m\u001b[39mAPR_MDC_key\u001b[39m\u001b[39m'\u001b[39m, \u001b[39m'\u001b[39m\u001b[39mdate\u001b[39m\u001b[39m'\u001b[39m])\u001b[39m.\u001b[39msum()\u001b[39m.\u001b[39msort_index()\n",
      "File \u001b[1;32mc:\\Users\\wolfd\\.conda\\envs\\COVID_MODEL\\lib\\site-packages\\pandas\\util\\_decorators.py:311\u001b[0m, in \u001b[0;36mdeprecate_nonkeyword_arguments.<locals>.decorate.<locals>.wrapper\u001b[1;34m(*args, **kwargs)\u001b[0m\n\u001b[0;32m    305\u001b[0m \u001b[39mif\u001b[39;00m \u001b[39mlen\u001b[39m(args) \u001b[39m>\u001b[39m num_allow_args:\n\u001b[0;32m    306\u001b[0m     warnings\u001b[39m.\u001b[39mwarn(\n\u001b[0;32m    307\u001b[0m         msg\u001b[39m.\u001b[39mformat(arguments\u001b[39m=\u001b[39marguments),\n\u001b[0;32m    308\u001b[0m         \u001b[39mFutureWarning\u001b[39;00m,\n\u001b[0;32m    309\u001b[0m         stacklevel\u001b[39m=\u001b[39mstacklevel,\n\u001b[0;32m    310\u001b[0m     )\n\u001b[1;32m--> 311\u001b[0m \u001b[39mreturn\u001b[39;00m func(\u001b[39m*\u001b[39margs, \u001b[39m*\u001b[39m\u001b[39m*\u001b[39mkwargs)\n",
      "File \u001b[1;32mc:\\Users\\wolfd\\.conda\\envs\\COVID_MODEL\\lib\\site-packages\\pandas\\io\\parsers\\readers.py:680\u001b[0m, in \u001b[0;36mread_csv\u001b[1;34m(filepath_or_buffer, sep, delimiter, header, names, index_col, usecols, squeeze, prefix, mangle_dupe_cols, dtype, engine, converters, true_values, false_values, skipinitialspace, skiprows, skipfooter, nrows, na_values, keep_default_na, na_filter, verbose, skip_blank_lines, parse_dates, infer_datetime_format, keep_date_col, date_parser, dayfirst, cache_dates, iterator, chunksize, compression, thousands, decimal, lineterminator, quotechar, quoting, doublequote, escapechar, comment, encoding, encoding_errors, dialect, error_bad_lines, warn_bad_lines, on_bad_lines, delim_whitespace, low_memory, memory_map, float_precision, storage_options)\u001b[0m\n\u001b[0;32m    665\u001b[0m kwds_defaults \u001b[39m=\u001b[39m _refine_defaults_read(\n\u001b[0;32m    666\u001b[0m     dialect,\n\u001b[0;32m    667\u001b[0m     delimiter,\n\u001b[1;32m   (...)\u001b[0m\n\u001b[0;32m    676\u001b[0m     defaults\u001b[39m=\u001b[39m{\u001b[39m\"\u001b[39m\u001b[39mdelimiter\u001b[39m\u001b[39m\"\u001b[39m: \u001b[39m\"\u001b[39m\u001b[39m,\u001b[39m\u001b[39m\"\u001b[39m},\n\u001b[0;32m    677\u001b[0m )\n\u001b[0;32m    678\u001b[0m kwds\u001b[39m.\u001b[39mupdate(kwds_defaults)\n\u001b[1;32m--> 680\u001b[0m \u001b[39mreturn\u001b[39;00m _read(filepath_or_buffer, kwds)\n",
      "File \u001b[1;32mc:\\Users\\wolfd\\.conda\\envs\\COVID_MODEL\\lib\\site-packages\\pandas\\io\\parsers\\readers.py:581\u001b[0m, in \u001b[0;36m_read\u001b[1;34m(filepath_or_buffer, kwds)\u001b[0m\n\u001b[0;32m    578\u001b[0m     \u001b[39mreturn\u001b[39;00m parser\n\u001b[0;32m    580\u001b[0m \u001b[39mwith\u001b[39;00m parser:\n\u001b[1;32m--> 581\u001b[0m     \u001b[39mreturn\u001b[39;00m parser\u001b[39m.\u001b[39;49mread(nrows)\n",
      "File \u001b[1;32mc:\\Users\\wolfd\\.conda\\envs\\COVID_MODEL\\lib\\site-packages\\pandas\\io\\parsers\\readers.py:1255\u001b[0m, in \u001b[0;36mTextFileReader.read\u001b[1;34m(self, nrows)\u001b[0m\n\u001b[0;32m   1253\u001b[0m nrows \u001b[39m=\u001b[39m validate_integer(\u001b[39m\"\u001b[39m\u001b[39mnrows\u001b[39m\u001b[39m\"\u001b[39m, nrows)\n\u001b[0;32m   1254\u001b[0m \u001b[39mtry\u001b[39;00m:\n\u001b[1;32m-> 1255\u001b[0m     index, columns, col_dict \u001b[39m=\u001b[39m \u001b[39mself\u001b[39;49m\u001b[39m.\u001b[39;49m_engine\u001b[39m.\u001b[39;49mread(nrows)\n\u001b[0;32m   1256\u001b[0m \u001b[39mexcept\u001b[39;00m \u001b[39mException\u001b[39;00m:\n\u001b[0;32m   1257\u001b[0m     \u001b[39mself\u001b[39m\u001b[39m.\u001b[39mclose()\n",
      "File \u001b[1;32mc:\\Users\\wolfd\\.conda\\envs\\COVID_MODEL\\lib\\site-packages\\pandas\\io\\parsers\\c_parser_wrapper.py:311\u001b[0m, in \u001b[0;36mCParserWrapper.read\u001b[1;34m(self, nrows)\u001b[0m\n\u001b[0;32m    308\u001b[0m     data \u001b[39m=\u001b[39m {k: v \u001b[39mfor\u001b[39;00m k, (i, v) \u001b[39min\u001b[39;00m \u001b[39mzip\u001b[39m(names, data_tups)}\n\u001b[0;32m    310\u001b[0m     names, date_data \u001b[39m=\u001b[39m \u001b[39mself\u001b[39m\u001b[39m.\u001b[39m_do_date_conversions(names, data)\n\u001b[1;32m--> 311\u001b[0m     index, names \u001b[39m=\u001b[39m \u001b[39mself\u001b[39;49m\u001b[39m.\u001b[39;49m_make_index(date_data, alldata, names)\n\u001b[0;32m    313\u001b[0m \u001b[39m# maybe create a mi on the columns\u001b[39;00m\n\u001b[0;32m    314\u001b[0m conv_names \u001b[39m=\u001b[39m \u001b[39mself\u001b[39m\u001b[39m.\u001b[39m_maybe_make_multi_index_columns(names, \u001b[39mself\u001b[39m\u001b[39m.\u001b[39mcol_names)\n",
      "File \u001b[1;32mc:\\Users\\wolfd\\.conda\\envs\\COVID_MODEL\\lib\\site-packages\\pandas\\io\\parsers\\base_parser.py:390\u001b[0m, in \u001b[0;36mParserBase._make_index\u001b[1;34m(self, data, alldata, columns, indexnamerow)\u001b[0m\n\u001b[0;32m    388\u001b[0m \u001b[39melif\u001b[39;00m \u001b[39mnot\u001b[39;00m \u001b[39mself\u001b[39m\u001b[39m.\u001b[39m_has_complex_date_col:\n\u001b[0;32m    389\u001b[0m     index \u001b[39m=\u001b[39m \u001b[39mself\u001b[39m\u001b[39m.\u001b[39m_get_simple_index(alldata, columns)\n\u001b[1;32m--> 390\u001b[0m     index \u001b[39m=\u001b[39m \u001b[39mself\u001b[39;49m\u001b[39m.\u001b[39;49m_agg_index(index)\n\u001b[0;32m    391\u001b[0m \u001b[39melif\u001b[39;00m \u001b[39mself\u001b[39m\u001b[39m.\u001b[39m_has_complex_date_col:\n\u001b[0;32m    392\u001b[0m     \u001b[39mif\u001b[39;00m \u001b[39mnot\u001b[39;00m \u001b[39mself\u001b[39m\u001b[39m.\u001b[39m_name_processed:\n",
      "File \u001b[1;32mc:\\Users\\wolfd\\.conda\\envs\\COVID_MODEL\\lib\\site-packages\\pandas\\io\\parsers\\base_parser.py:482\u001b[0m, in \u001b[0;36mParserBase._agg_index\u001b[1;34m(self, index, try_parse_dates)\u001b[0m\n\u001b[0;32m    479\u001b[0m \u001b[39mfor\u001b[39;00m i, arr \u001b[39min\u001b[39;00m \u001b[39menumerate\u001b[39m(index):\n\u001b[0;32m    481\u001b[0m     \u001b[39mif\u001b[39;00m try_parse_dates \u001b[39mand\u001b[39;00m \u001b[39mself\u001b[39m\u001b[39m.\u001b[39m_should_parse_dates(i):\n\u001b[1;32m--> 482\u001b[0m         arr \u001b[39m=\u001b[39m \u001b[39mself\u001b[39;49m\u001b[39m.\u001b[39;49m_date_conv(arr)\n\u001b[0;32m    484\u001b[0m     \u001b[39mif\u001b[39;00m \u001b[39mself\u001b[39m\u001b[39m.\u001b[39mna_filter:\n\u001b[0;32m    485\u001b[0m         col_na_values \u001b[39m=\u001b[39m \u001b[39mself\u001b[39m\u001b[39m.\u001b[39mna_values\n",
      "File \u001b[1;32mc:\\Users\\wolfd\\.conda\\envs\\COVID_MODEL\\lib\\site-packages\\pandas\\io\\parsers\\base_parser.py:1070\u001b[0m, in \u001b[0;36m_make_date_converter.<locals>.converter\u001b[1;34m(*date_cols)\u001b[0m\n\u001b[0;32m   1067\u001b[0m strs \u001b[39m=\u001b[39m parsing\u001b[39m.\u001b[39mconcat_date_cols(date_cols)\n\u001b[0;32m   1069\u001b[0m \u001b[39mtry\u001b[39;00m:\n\u001b[1;32m-> 1070\u001b[0m     \u001b[39mreturn\u001b[39;00m tools\u001b[39m.\u001b[39;49mto_datetime(\n\u001b[0;32m   1071\u001b[0m         ensure_object(strs),\n\u001b[0;32m   1072\u001b[0m         utc\u001b[39m=\u001b[39;49m\u001b[39mNone\u001b[39;49;00m,\n\u001b[0;32m   1073\u001b[0m         dayfirst\u001b[39m=\u001b[39;49mdayfirst,\n\u001b[0;32m   1074\u001b[0m         errors\u001b[39m=\u001b[39;49m\u001b[39m\"\u001b[39;49m\u001b[39mignore\u001b[39;49m\u001b[39m\"\u001b[39;49m,\n\u001b[0;32m   1075\u001b[0m         infer_datetime_format\u001b[39m=\u001b[39;49minfer_datetime_format,\n\u001b[0;32m   1076\u001b[0m         cache\u001b[39m=\u001b[39;49mcache_dates,\n\u001b[0;32m   1077\u001b[0m     )\u001b[39m.\u001b[39mto_numpy()\n\u001b[0;32m   1079\u001b[0m \u001b[39mexcept\u001b[39;00m \u001b[39mValueError\u001b[39;00m:\n\u001b[0;32m   1080\u001b[0m     \u001b[39mreturn\u001b[39;00m tools\u001b[39m.\u001b[39mto_datetime(\n\u001b[0;32m   1081\u001b[0m         parsing\u001b[39m.\u001b[39mtry_parse_dates(strs, dayfirst\u001b[39m=\u001b[39mdayfirst), cache\u001b[39m=\u001b[39mcache_dates\n\u001b[0;32m   1082\u001b[0m     )\n",
      "File \u001b[1;32mc:\\Users\\wolfd\\.conda\\envs\\COVID_MODEL\\lib\\site-packages\\pandas\\core\\tools\\datetimes.py:1076\u001b[0m, in \u001b[0;36mto_datetime\u001b[1;34m(arg, errors, dayfirst, yearfirst, utc, format, exact, unit, infer_datetime_format, origin, cache)\u001b[0m\n\u001b[0;32m   1074\u001b[0m         result \u001b[39m=\u001b[39m _convert_and_box_cache(arg, cache_array)\n\u001b[0;32m   1075\u001b[0m     \u001b[39melse\u001b[39;00m:\n\u001b[1;32m-> 1076\u001b[0m         result \u001b[39m=\u001b[39m convert_listlike(arg, \u001b[39mformat\u001b[39;49m)\n\u001b[0;32m   1077\u001b[0m \u001b[39melse\u001b[39;00m:\n\u001b[0;32m   1078\u001b[0m     result \u001b[39m=\u001b[39m convert_listlike(np\u001b[39m.\u001b[39marray([arg]), \u001b[39mformat\u001b[39m)[\u001b[39m0\u001b[39m]\n",
      "File \u001b[1;32mc:\\Users\\wolfd\\.conda\\envs\\COVID_MODEL\\lib\\site-packages\\pandas\\core\\tools\\datetimes.py:402\u001b[0m, in \u001b[0;36m_convert_listlike_datetimes\u001b[1;34m(arg, format, name, tz, unit, errors, infer_datetime_format, dayfirst, yearfirst, exact)\u001b[0m\n\u001b[0;32m    400\u001b[0m \u001b[39massert\u001b[39;00m \u001b[39mformat\u001b[39m \u001b[39mis\u001b[39;00m \u001b[39mNone\u001b[39;00m \u001b[39mor\u001b[39;00m infer_datetime_format\n\u001b[0;32m    401\u001b[0m utc \u001b[39m=\u001b[39m tz \u001b[39m==\u001b[39m \u001b[39m\"\u001b[39m\u001b[39mutc\u001b[39m\u001b[39m\"\u001b[39m\n\u001b[1;32m--> 402\u001b[0m result, tz_parsed \u001b[39m=\u001b[39m objects_to_datetime64ns(\n\u001b[0;32m    403\u001b[0m     arg,\n\u001b[0;32m    404\u001b[0m     dayfirst\u001b[39m=\u001b[39;49mdayfirst,\n\u001b[0;32m    405\u001b[0m     yearfirst\u001b[39m=\u001b[39;49myearfirst,\n\u001b[0;32m    406\u001b[0m     utc\u001b[39m=\u001b[39;49mutc,\n\u001b[0;32m    407\u001b[0m     errors\u001b[39m=\u001b[39;49merrors,\n\u001b[0;32m    408\u001b[0m     require_iso8601\u001b[39m=\u001b[39;49mrequire_iso8601,\n\u001b[0;32m    409\u001b[0m     allow_object\u001b[39m=\u001b[39;49m\u001b[39mTrue\u001b[39;49;00m,\n\u001b[0;32m    410\u001b[0m )\n\u001b[0;32m    412\u001b[0m \u001b[39mif\u001b[39;00m tz_parsed \u001b[39mis\u001b[39;00m \u001b[39mnot\u001b[39;00m \u001b[39mNone\u001b[39;00m:\n\u001b[0;32m    413\u001b[0m     \u001b[39m# We can take a shortcut since the datetime64 numpy array\u001b[39;00m\n\u001b[0;32m    414\u001b[0m     \u001b[39m# is in UTC\u001b[39;00m\n\u001b[0;32m    415\u001b[0m     dta \u001b[39m=\u001b[39m DatetimeArray(result, dtype\u001b[39m=\u001b[39mtz_to_dtype(tz_parsed))\n",
      "File \u001b[1;32mc:\\Users\\wolfd\\.conda\\envs\\COVID_MODEL\\lib\\site-packages\\pandas\\core\\arrays\\datetimes.py:2233\u001b[0m, in \u001b[0;36mobjects_to_datetime64ns\u001b[1;34m(data, dayfirst, yearfirst, utc, errors, require_iso8601, allow_object, allow_mixed)\u001b[0m\n\u001b[0;32m   2223\u001b[0m \u001b[39mtry\u001b[39;00m:\n\u001b[0;32m   2224\u001b[0m     result, tz_parsed \u001b[39m=\u001b[39m tslib\u001b[39m.\u001b[39marray_to_datetime(\n\u001b[0;32m   2225\u001b[0m         data\u001b[39m.\u001b[39mravel(\u001b[39m\"\u001b[39m\u001b[39mK\u001b[39m\u001b[39m\"\u001b[39m),\n\u001b[0;32m   2226\u001b[0m         errors\u001b[39m=\u001b[39merrors,\n\u001b[1;32m   (...)\u001b[0m\n\u001b[0;32m   2231\u001b[0m         allow_mixed\u001b[39m=\u001b[39mallow_mixed,\n\u001b[0;32m   2232\u001b[0m     )\n\u001b[1;32m-> 2233\u001b[0m     result \u001b[39m=\u001b[39m result\u001b[39m.\u001b[39;49mreshape(data\u001b[39m.\u001b[39;49mshape, order\u001b[39m=\u001b[39;49morder)\n\u001b[0;32m   2234\u001b[0m \u001b[39mexcept\u001b[39;00m \u001b[39mValueError\u001b[39;00m \u001b[39mas\u001b[39;00m err:\n\u001b[0;32m   2235\u001b[0m     \u001b[39mtry\u001b[39;00m:\n",
      "\u001b[1;31mKeyboardInterrupt\u001b[0m: "
     ]
    }
   ],
   "source": [
    "###############\n",
    "## Load data ##\n",
    "###############\n",
    "\n",
    "print('\\n(1) Loading intermediate dataset\\n')\n",
    "\n",
    "# Name and location of intermediate dataset\n",
    "abs_dir = os.getcwd()\n",
    "rel_dir = '../../data/interim/QALY_model/postponement_non_covid_care/UZG/MZG_2016_2021.csv'\n",
    "# Name and location of saved dataframe\n",
    "result_folder =  '../../data/interim/QALY_model/postponement_non_covid_care/UZG/2020_2021_normalized.csv'\n",
    "# Load data\n",
    "df = pd.read_csv(os.path.join(abs_dir, rel_dir), index_col=[0,1,2,3], parse_dates=True)\n",
    "# Sum to weekly frequency to reduce noise in the dataset\n",
    "df = df.reset_index().dropna().groupby(by=['APR_MDC_key', 'date']).sum().sort_index()\n",
    "\n",
    "############################################################\n",
    "## Construct baseline dataframe using data from 2017-2019 ##\n",
    "############################################################\n",
    "\n",
    "bootstrap_repeats = 200\n",
    "subset_size=5\n",
    "\n",
    "print('\\n(2) Constructing baseline dataframe using data from 2016-2020\\n')\n",
    "\n",
    "# Define a target dataframe containing the week and day number instead of the date\n",
    "week_numbers = list(range(1,53+1))\n",
    "day_numbers = list(range(1,7+1))\n",
    "iterables=[]\n",
    "names=[]\n",
    "for index_name in df.index.names:\n",
    "    if index_name != 'date':\n",
    "        iterables += [df.index.get_level_values(index_name).unique()]\n",
    "        names += [index_name,]\n",
    "iterables.append(week_numbers)\n",
    "iterables.append(day_numbers)\n",
    "names.append('week_number')\n",
    "names.append('day_number')\n",
    "# Add bootstrap axis\n",
    "iterables.append(list(range(bootstrap_repeats)))\n",
    "names.append('bootstrap_sample')\n",
    "index = pd.MultiIndex.from_product(iterables, names=names)\n",
    "baseline_df = pd.Series(index=index, name='n_patients', data=np.zeros(len(index), dtype=int))\n",
    "# Use all data from the jan. 2016 until jan. 2020 as baseline\n",
    "baseline = df[((df.index.get_level_values('date')<pd.Timestamp('2020-01-01'))&(df.index.get_level_values('date')>=pd.Timestamp('2016-01-01')))]\n",
    "\n",
    "names=['week_number', 'day_number']\n",
    "iterables=[baseline_df.index.get_level_values('week_number').unique(), baseline_df.index.get_level_values('day_number').unique()]\n",
    "index = pd.MultiIndex.from_product(iterables, names=names)\n",
    "merge_df = pd.Series(index=index, name='n_patients', data=np.zeros(len(index), dtype=int))\n",
    "\n",
    "# Loop over all possible indices, convert date to day of year, take average of values with same day-of-year number\n",
    "for APR_MDC_key in baseline.index.get_level_values('APR_MDC_key').unique():\n",
    "    for idx in baseline_df.index.get_level_values('bootstrap_sample').unique():\n",
    "        # Extract dataseries\n",
    "        data = baseline.loc[(APR_MDC_key,),:]\n",
    "        # Reset index to 'unlock' the date\n",
    "        data.reset_index(inplace=True)\n",
    "        # Convert the date to week and day number\n",
    "        data['week_number'] = pd.to_datetime(data['date'].values).isocalendar().week.values\n",
    "        data['day_number'] = pd.to_datetime(data['date'].values).isocalendar().day.values\n",
    "        # Perform a groupby 'date' operation with mean() to take the mean of all values with similar daynumber\n",
    "        d = data.groupby(by=['week_number','day_number']).apply(lambda x: np.mean(x.sample(n=subset_size, replace=True)))['n_patients']\n",
    "        baseline_df.loc[APR_MDC_key, slice(None), slice(None), idx] = pd.merge(d, merge_df, how='right', on=['week_number','day_number']).fillna(method='ffill')['n_patients_x'].values   \n"
   ]
  },
  {
   "cell_type": "code",
   "execution_count": null,
   "metadata": {},
   "outputs": [],
   "source": [
    "# Location of results\n",
    "result_folder='../../data/interim/QALY_model/postponement_non_covid_care/UZG/'\n",
    "result_name='MZG_baseline.csv'\n",
    "result_path = os.path.join(abs_dir,result_folder,result_name)\n",
    "baseline_df.to_csv(result_path)"
   ]
  },
  {
   "cell_type": "code",
   "execution_count": null,
   "metadata": {},
   "outputs": [],
   "source": []
  }
 ],
 "metadata": {
  "kernelspec": {
   "display_name": "Python 3.10.4 ('COVID_MODEL')",
   "language": "python",
   "name": "python3"
  },
  "language_info": {
   "codemirror_mode": {
    "name": "ipython",
    "version": 3
   },
   "file_extension": ".py",
   "mimetype": "text/x-python",
   "name": "python",
   "nbconvert_exporter": "python",
   "pygments_lexer": "ipython3",
   "version": "3.10.6"
  },
  "orig_nbformat": 4,
  "vscode": {
   "interpreter": {
    "hash": "6be7b73904b708079aca656ec05e1ddf54d5802da3a6d16fcc4a72534aa1b4a5"
   }
  }
 },
 "nbformat": 4,
 "nbformat_minor": 2
}
