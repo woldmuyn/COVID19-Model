{
 "cells": [
  {
   "attachments": {},
   "cell_type": "markdown",
   "metadata": {},
   "source": [
    "# Packages"
   ]
  },
  {
   "cell_type": "code",
   "execution_count": 58,
   "metadata": {},
   "outputs": [],
   "source": [
    "import os\n",
    "import pandas as pd\n",
    "import numpy as np\n",
    "import matplotlib.pyplot as plt\n",
    "from pySODM.models.base import ODEModel\n",
    "from covid19_DTM.data.utils import construct_initN\n",
    "from covid19_DTM.models.TDPF import ramp_fun\n",
    "from covid19_DTM.models.TDPF import make_seasonality_function\n",
    "from covid19_DTM.data.sciensano import get_sciensano_COVID19_data\n",
    "import csv\n",
    "from csv import DictReader\n",
    "from functools import lru_cache\n",
    "from matplotlib import font_manager"
   ]
  },
  {
   "attachments": {},
   "cell_type": "markdown",
   "metadata": {},
   "source": [
    "# Data"
   ]
  },
  {
   "cell_type": "code",
   "execution_count": 70,
   "metadata": {},
   "outputs": [],
   "source": [
    "# Postponed healthcare data\n",
    "abs_dir = os.getcwd()\n",
    "rel_dir = '../../data/PHM/interim/UZG/'\n",
    "file_name = '2020_2021_normalized.csv'\n",
    "types_dict = {'APR_MDC_key': str}\n",
    "# mean data\n",
    "hospitalizations_normalized = pd.read_csv(os.path.join(abs_dir,rel_dir,file_name),index_col=[0,1],dtype=types_dict,parse_dates=True)['mean']\n",
    "hospitalizations_normalized = hospitalizations_normalized.reorder_levels(['date','APR_MDC_key'])\n",
    "hospitalizations_normalized=hospitalizations_normalized.sort_index()\n",
    "MDC_keys = hospitalizations_normalized.index.get_level_values('APR_MDC_key').unique().values\n",
    "\n",
    "# lower and upper quantiles\n",
    "hospitalizations_normalized_quantiles = pd.read_csv(os.path.join(abs_dir,rel_dir,file_name),index_col=[0,1],dtype=types_dict,parse_dates=True).loc[(slice(None), slice(None)), ('q0.025','q0.975')]\n",
    "hospitalizations_normalized_quantiles = hospitalizations_normalized_quantiles.reorder_levels(['date','APR_MDC_key'])\n",
    "hospitalizations_normalized_quantiles=hospitalizations_normalized_quantiles.sort_index()\n",
    "\n",
    "# COVID-19 data\n",
    "covid_data, _ , _ , _ = get_sciensano_COVID19_data(update=False)\n",
    "new_index = pd.MultiIndex.from_product([pd.to_datetime(hospitalizations_normalized.index.get_level_values('date').unique()),covid_data.index.get_level_values('NIS').unique()])\n",
    "covid_data = covid_data.reindex(new_index,fill_value=0)\n",
    "df_covid_H_in = covid_data['H_in'].loc[:,40000]\n",
    "df_covid_H_tot = covid_data['H_tot'].loc[:,40000]\n",
    "df_covid_dH = df_covid_H_tot.diff().fillna(0)\n",
    "\n",
    "MDC_dict={}\n",
    "file_name = 'MDC_dict.csv'\n",
    "with open(os.path.join(abs_dir,rel_dir,file_name), mode='r') as f:\n",
    "    csv_reader = csv.reader(f, delimiter=',')\n",
    "    for row in csv_reader:\n",
    "        MDC_dict.update({row[0]:row[1]})"
   ]
  },
  {
   "attachments": {},
   "cell_type": "markdown",
   "metadata": {},
   "source": [
    "# Models and functions"
   ]
  },
  {
   "cell_type": "code",
   "execution_count": 83,
   "metadata": {},
   "outputs": [],
   "source": [
    "class constrained_PI(ODEModel):\n",
    "    \"\"\"\n",
    "    Test constrainted PI model\n",
    "    \"\"\"\n",
    "    \n",
    "    state_names = ['H','E']\n",
    "    parameter_names = ['covid_H','covid_dH']\n",
    "    parameter_stratified_names = ['Kp', 'Ki', 'alpha','gamma', 'covid_capacity']\n",
    "    dimension_names = ['MDC']\n",
    "    \n",
    "    @staticmethod\n",
    "    def integrate(t, H, E, covid_H, covid_dH, Kp, Ki, alpha, gamma, covid_capacity):\n",
    "\n",
    "        epsilon = 1-H\n",
    "        dE = epsilon - gamma*E\n",
    "        u = np.where(covid_H <= covid_capacity, Kp * np.where(E<=0,epsilon,0) + Ki * np.where(E>0,E,0), 0)\n",
    "        dH = -alpha*covid_dH + u\n",
    "\n",
    "        return dH, dE "
   ]
  },
  {
   "cell_type": "code",
   "execution_count": 60,
   "metadata": {},
   "outputs": [],
   "source": [
    "class PI(ODEModel):\n",
    "    \"\"\"\n",
    "    Test PI model\n",
    "    \"\"\"\n",
    "    \n",
    "    state_names = ['H','E']\n",
    "    parameter_names = ['covid_H']\n",
    "    parameter_stratified_names = ['Kp', 'Ki', 'alpha', 'gamma']\n",
    "    dimension_names = ['MDC']\n",
    "    \n",
    "    @staticmethod\n",
    "    def integrate(t, H, E, covid_H, Kp, Ki, alpha, gamma):\n",
    "\n",
    "        epsilon = 1-H\n",
    "        dE = epsilon - gamma*E\n",
    "        u = Kp*epsilon + Ki*E\n",
    "        dH = -alpha*covid_H + u\n",
    "\n",
    "        return dH, dE "
   ]
  },
  {
   "cell_type": "code",
   "execution_count": 61,
   "metadata": {},
   "outputs": [],
   "source": [
    "class get_covid_H():\n",
    "\n",
    "    def __init__(self, data):\n",
    "        self.data = data\n",
    "\n",
    "    def H_wrapper_func(self, t, states, param):\n",
    "        return self.__call__(t)\n",
    "\n",
    "    @lru_cache()\n",
    "    def __call__(self, t):\n",
    "        t = pd.to_datetime(t).round(freq='D')\n",
    "        try:\n",
    "            covid_H = self.data.loc[t]\n",
    "        except:\n",
    "            covid_H = 0\n",
    "        return covid_H  "
   ]
  },
  {
   "cell_type": "code",
   "execution_count": 62,
   "metadata": {},
   "outputs": [],
   "source": [
    "class get_covid_dH():\n",
    "\n",
    "    def __init__(self, data):\n",
    "        self.data = data\n",
    "\n",
    "    def dH_wrapper_func(self, t, states, param):\n",
    "        return self.__call__(t)\n",
    "\n",
    "    @lru_cache\n",
    "    def __call__(self, t):\n",
    "        t = pd.to_datetime(t).round(freq='D')\n",
    "        try:\n",
    "            covid_dH = self.data.loc[t]\n",
    "        except:\n",
    "            covid_dH = 0\n",
    "\n",
    "        return covid_dH"
   ]
  },
  {
   "cell_type": "code",
   "execution_count": 63,
   "metadata": {},
   "outputs": [],
   "source": [
    "def hypothetical_covid_peak_getH(t, states, param,start_peak,end_peak,peak_amplitude):\n",
    "    l_days = end_peak-start_peak\n",
    "    l = l_days/pd.Timedelta(days=1)\n",
    "\n",
    "    if t <= start_peak:\n",
    "        covid_H = 0\n",
    "    elif start_peak < t <= start_peak+l_days/2:\n",
    "        covid_H = ramp_fun(0, peak_amplitude, t, start_peak, l/2)\n",
    "    elif start_peak+l_days/2 < t <= end_peak:\n",
    "        covid_H = ramp_fun(peak_amplitude, 0, t, start_peak+l_days/2, l/2)\n",
    "    else:\n",
    "        covid_H=0\n",
    "\n",
    "    return covid_H"
   ]
  },
  {
   "cell_type": "code",
   "execution_count": 64,
   "metadata": {},
   "outputs": [],
   "source": [
    "def hypothetical_covid_peak_getdH(t, states, param,start_peak,end_peak,peak_amplitude):\n",
    "    l_days = end_peak-start_peak\n",
    "    l = l_days/pd.Timedelta(days=1)\n",
    "\n",
    "    if t <= start_peak:\n",
    "        covid_dH = 0\n",
    "    elif start_peak < t <= start_peak+l_days/2:\n",
    "        covid_dH = peak_amplitude/(l/2)\n",
    "    elif start_peak+l_days/2 < t <= end_peak:\n",
    "        covid_dH = -peak_amplitude/(l/2)\n",
    "    else:\n",
    "        covid_dH=0\n",
    "\n",
    "    return covid_dH"
   ]
  },
  {
   "cell_type": "code",
   "execution_count": 94,
   "metadata": {},
   "outputs": [],
   "source": [
    "def init_model(model_class, MDC=['04',]):\n",
    "    n = len(MDC)\n",
    "    # params\n",
    "    if model_class.__name__ == \"PI\":\n",
    "        # params\n",
    "        alpha = (3.0e-05*np.ones(n))\n",
    "        gamma = (0.02*np.ones(n))\n",
    "\n",
    "        # PI params\n",
    "        Kp = (6e-04*np.ones(n))\n",
    "        Ki = (5e-04*np.ones(n))\n",
    "    else:\n",
    "        # params\n",
    "        alpha = (3.0e-05*np.ones(n))\n",
    "        gamma = (0.02*np.ones(n))\n",
    "\n",
    "        # PI params\n",
    "        Kp = (6e-04*np.ones(n))\n",
    "        Ki = (5e-04*np.ones(n))\n",
    "\n",
    "    # initial values covid params\n",
    "    covid_H = 0\n",
    "    covid_dH = 0\n",
    "    covid_capacity = (400*np.ones(n))\n",
    "\n",
    "    global_params_dict={'alpha':alpha,\n",
    "            'gamma':gamma,\n",
    "            'Kp':Kp,\n",
    "            'Ki':Ki,\n",
    "            'covid_H':covid_H,\n",
    "            'covid_dH':covid_dH,\n",
    "            'covid_capacity':covid_capacity\n",
    "            }\n",
    "\n",
    "    #time dependent functions\n",
    "    H_function = get_covid_H(df_covid_H_tot).H_wrapper_func\n",
    "    dH_function = get_covid_dH(df_covid_dH).dH_wrapper_func\n",
    "    global_time_dependent_parameters={'covid_H': H_function,'covid_dH':dH_function}\n",
    "\n",
    "    # Initialize model\n",
    "    init_states = {'H':np.ones(n),'E':np.zeros(n)}\n",
    "    coordinates={'MDC': MDC}\n",
    "\n",
    "    # param and time dependent param dictionary specific for model class\n",
    "    params_dict = {}\n",
    "    time_dependent_parameters = {}\n",
    "\n",
    "    for param in model_class.parameter_names + model_class.parameter_stratified_names:\n",
    "        params_dict.update({param:global_params_dict[param]})\n",
    "        if param in list(global_time_dependent_parameters.keys()):\n",
    "            time_dependent_parameters.update({param:global_time_dependent_parameters[param]})\n",
    "    # Initialize model\n",
    "    model = model_class(init_states,params_dict,coordinates,time_dependent_parameters=time_dependent_parameters)\n",
    "    return model"
   ]
  },
  {
   "attachments": {},
   "cell_type": "markdown",
   "metadata": {},
   "source": [
    "# Test model"
   ]
  },
  {
   "cell_type": "code",
   "execution_count": 88,
   "metadata": {},
   "outputs": [],
   "source": [
    "start_sim = pd.to_datetime('2020-01-01')\n",
    "end_sim = pd.to_datetime('2020-08-01')\n",
    "sim_time = pd.date_range(start_sim,end_sim)\n",
    "\n",
    "plot_start_date = pd.to_datetime('2020-01-01')\n",
    "plot_end_date = pd.to_datetime('2020-08-01')\n",
    "plot_time = pd.date_range(plot_start_date,plot_end_date)\n",
    "\n",
    "start_peak = pd.to_datetime('2020-02-01')\n",
    "end_peak = pd.to_datetime('2020-04-01')\n",
    "peak_amplitude = 20"
   ]
  },
  {
   "cell_type": "code",
   "execution_count": 95,
   "metadata": {},
   "outputs": [],
   "source": [
    "model = init_model(PI)\n",
    "out = model.sim([start_sim,end_sim])"
   ]
  },
  {
   "cell_type": "code",
   "execution_count": 96,
   "metadata": {},
   "outputs": [
    {
     "data": {
      "image/png": "[encoded data removed]",
      "text/plain": [
       "<Figure size 640x480 with 4 Axes>"
      ]
     },
     "metadata": {},
     "output_type": "display_data"
    }
   ],
   "source": [
    "fig, axs = plt.subplots(2,2)\n",
    "axs = axs.reshape(-1)\n",
    "\n",
    "idx=0\n",
    "for state in model.state_names:\n",
    "    for disease in out.MDC.values:\n",
    "        out_plot = out.sel(MDC=disease)[state]\n",
    "        axs[idx].plot(sim_time,out_plot, label=MDC_dict[disease])\n",
    "        axs[idx].set_title(state)\n",
    "        axs[idx].xaxis.set_major_locator(plt.MaxNLocator(2))\n",
    "        axs[idx].grid(False)\n",
    "        axs[idx].tick_params(axis='both', which='major', labelsize=10)\n",
    "        axs[idx].tick_params(axis='both', which='minor', labelsize=8)\n",
    "    idx+=1\n",
    "\n",
    "axs[-2].plot(df_covid_H_tot[sim_time])\n",
    "axs[-1].plot(df_covid_dH[sim_time])\n",
    "\n",
    "plt.subplots_adjust(left=0.1,\n",
    "                    bottom=0.1,\n",
    "                    right=2,\n",
    "                    top=0.8,\n",
    "                    wspace=0.5,\n",
    "                    hspace=0.5)\n",
    "handles, labels = axs[0].get_legend_handles_labels()\n",
    "fig.legend(handles, labels, loc='upper center',fontsize=8)\n",
    "plt.show()"
   ]
  },
  {
   "attachments": {},
   "cell_type": "markdown",
   "metadata": {},
   "source": [
    "# Parameter influences"
   ]
  },
  {
   "attachments": {},
   "cell_type": "markdown",
   "metadata": {},
   "source": [
    "## constrained PI"
   ]
  },
  {
   "cell_type": "code",
   "execution_count": 91,
   "metadata": {},
   "outputs": [],
   "source": [
    "abs_dir = os.getcwd()\n",
    "result_folder = '../../results/PHM/analysis/PI_models/parameter_influences'\n",
    "result_path = os.path.join(abs_dir,'../../results/calibrations/Postponed_Healthcare/')\n",
    "\n",
    "if not os.path.exists(result_path):\n",
    "    os.makedirs(result_path)\n",
    "\n",
    "label_font = font_manager.FontProperties(family='CMU Sans Serif',\n",
    "                                style='normal', \n",
    "                                size=10)\n",
    "legend_font = font_manager.FontProperties(family='CMU Sans Serif',\n",
    "                                style='normal', \n",
    "                                size=8)"
   ]
  },
  {
   "cell_type": "code",
   "execution_count": null,
   "metadata": {},
   "outputs": [],
   "source": [
    "MDC = ['04',]\n",
    "\n",
    "gamma_choices = \n",
    "\n",
    "alpha_choices = \n",
    "\n",
    "Kp_choices =\n",
    "\n",
    "KI_choices =\n",
    "\n",
    "\n",
    "\n",
    "X_tot_choices = [80, 100, 200]\n",
    "\n",
    "epsilon_choices = [0,0.01,1]\n",
    "epsilon_choices = np.tile(epsilon_choices,(len(MDC),1)).transpose()\n",
    "\n",
    "beta_choices = [0.1,0.5,1]\n",
    "beta_choices = np.tile(beta_choices,(len(MDC),1)).transpose()\n",
    "\n",
    "parameters = {'sigma':sigma_choices,'X_tot':X_tot_choices,'epsilon':epsilon_choices,'beta':beta_choices}"
   ]
  },
  {
   "cell_type": "code",
   "execution_count": null,
   "metadata": {},
   "outputs": [],
   "source": [
    "for parameter_name,parameter_choices in parameters.items():\n",
    "    fig, axs = plt.subplots(1,3,figsize=(6,2),sharey=True,sharex=True)\n",
    "    print(parameter_name)\n",
    "    model = init_model()\n",
    "    for i,parameter_value in enumerate(parameter_choices):\n",
    "        model.parameters.update({parameter_name:parameter_value})\n",
    "        out = model.sim([start_sim,end_sim])\n",
    "        NR_table[string.ascii_lowercase[i]][parameter_name]=out.NR[-1].values\n",
    "        for disease in MDC:\n",
    "            out_plot = out.sel(MDC=disease,date=plot_time)['H']\n",
    "            if disease == \"covid\":\n",
    "                axs[i].plot(plot_time,out_plot,color='black',linestyle='dashed',linewidth=2,alpha=0.8)\n",
    "            else:\n",
    "                axs[i].plot(plot_time,out_plot,color='black',linewidth=2)\n",
    "            axs[i].set_ylim([0,150])\n",
    "            #axs[i].set_title(f'{string.ascii_lowercase[i]})',font=label_font)\n",
    "            axs[i].xaxis.set_ticks(pd.date_range(plot_start_date,plot_end_date,freq='4M'))\n",
    "            axs[i].tick_params(axis='both', which='major', labelsize=8)\n",
    "            axs[i].grid(False)\n",
    "    axs[0].set_ylabel('Hospital bed occupancy',font=label_font)\n",
    "    fig.tight_layout()\n",
    "    fig.savefig(os.path.join(result_folder,f'queuing_model_{parameter_name}'),dpi=600,bbox_inches='tight')\n",
    "    model.parameters.update({parameter_name:globals()[parameter_name]})"
   ]
  }
 ],
 "metadata": {
  "kernelspec": {
   "display_name": "COVID_MODEL",
   "language": "python",
   "name": "python3"
  },
  "language_info": {
   "codemirror_mode": {
    "name": "ipython",
    "version": 3
   },
   "file_extension": ".py",
   "mimetype": "text/x-python",
   "name": "python",
   "nbconvert_exporter": "python",
   "pygments_lexer": "ipython3",
   "version": "3.10.6"
  },
  "orig_nbformat": 4
 },
 "nbformat": 4,
 "nbformat_minor": 2
}
