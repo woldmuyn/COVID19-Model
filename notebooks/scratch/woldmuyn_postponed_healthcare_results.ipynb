{
 "cells": [
  {
   "attachments": {},
   "cell_type": "markdown",
   "metadata": {},
   "source": [
    "# Packages\n"
   ]
  },
  {
   "cell_type": "code",
   "execution_count": 42,
   "metadata": {},
   "outputs": [],
   "source": [
    "import json\n",
    "import argparse\n",
    "import sys,os\n",
    "import random\n",
    "import datetime\n",
    "import pandas as pd\n",
    "import numpy as np\n",
    "import multiprocessing as mp\n",
    "import matplotlib.pyplot as plt\n",
    "import csv\n",
    "# pySODM packages\n",
    "from pySODM.models.base import ODEModel\n",
    "from pySODM.optimization import pso, nelder_mead\n",
    "from pySODM.optimization.utils import add_poisson_noise, assign_theta, variance_analysis\n",
    "from pySODM.optimization.mcmc import perturbate_theta, run_EnsembleSampler, emcee_sampler_to_dictionary\n",
    "from pySODM.optimization.objective_functions import log_posterior_probability, log_prior_uniform, ll_gaussian\n",
    "# COVID-19 package\n",
    "from covid19_DTM.data.sciensano import get_sciensano_COVID19_data"
   ]
  },
  {
   "attachments": {},
   "cell_type": "markdown",
   "metadata": {},
   "source": [
    "# data and samples\n"
   ]
  },
  {
   "cell_type": "code",
   "execution_count": 43,
   "metadata": {},
   "outputs": [],
   "source": [
    "abs_dir = os.getcwd()"
   ]
  },
  {
   "cell_type": "code",
   "execution_count": 44,
   "metadata": {},
   "outputs": [],
   "source": [
    "rel_dir = '../../data/PHM/interim/UZG'\n",
    "\n",
    "# Postponed healthcare data\n",
    "file_name = '2020_2021_normalized.csv'\n",
    "types_dict = {'APR_MDC_key': str}\n",
    "# mean data\n",
    "hospitalizations_normalized = pd.read_csv(os.path.join(abs_dir,rel_dir,file_name),index_col=[0,1],dtype=types_dict,parse_dates=True)['mean']\n",
    "hospitalizations_normalized = hospitalizations_normalized.reorder_levels(['date','APR_MDC_key'])\n",
    "hospitalizations_normalized=hospitalizations_normalized.sort_index()\n",
    "hospitalizations_normalized=hospitalizations_normalized.reindex(hospitalizations_normalized.index.rename('MDC',level=1))\n",
    "MDC_keys = hospitalizations_normalized.index.get_level_values('MDC').unique().values\n",
    "\n",
    "# lower and upper quantiles\n",
    "hospitalizations_normalized_quantiles = pd.read_csv(os.path.join(abs_dir,rel_dir,file_name),index_col=[0,1],dtype=types_dict,parse_dates=True).loc[(slice(None), slice(None)), ('q0.025','q0.975')]\n",
    "hospitalizations_normalized_quantiles = hospitalizations_normalized_quantiles.reorder_levels(['date','APR_MDC_key'])\n",
    "hospitalizations_normalized_quantiles=hospitalizations_normalized_quantiles.sort_index()\n",
    "hospitalizations_normalized_quantiles=hospitalizations_normalized_quantiles.reindex(hospitalizations_normalized_quantiles.index.rename('MDC',level=1))\n",
    "\n",
    "file_name = 'MZG_2016_2021.csv'\n",
    "types_dict = {'APR_MDC_key': str}\n",
    "hospitalizations = pd.read_csv(os.path.join(abs_dir,rel_dir,file_name),index_col=[0,1,2,3],dtype=types_dict).squeeze()\n",
    "hospitalizations = hospitalizations.groupby(['APR_MDC_key','date']).sum()\n",
    "hospitalizations.index = hospitalizations.index.set_levels([hospitalizations.index.levels[0], pd.to_datetime(hospitalizations.index.levels[1])])\n",
    "hospitalizations = hospitalizations.reorder_levels(['date','APR_MDC_key'])\n",
    "hospitalizations=hospitalizations.sort_index()\n",
    "hospitalizations=hospitalizations.reindex(hospitalizations.index.rename('MDC',level=1))\n",
    "\n",
    "# COVID-19 data\n",
    "covid_data, _ , _ , _ = get_sciensano_COVID19_data(update=False)\n",
    "new_index = pd.MultiIndex.from_product([pd.to_datetime(hospitalizations_normalized.index.get_level_values('date').unique()),covid_data.index.get_level_values('NIS').unique()])\n",
    "covid_data = covid_data.reindex(new_index,fill_value=0)\n",
    "df_covid_H_in = covid_data['H_in'].loc[:,40000]\n",
    "df_covid_H_tot = covid_data['H_tot'].loc[:,40000]\n",
    "df_covid_dH = df_covid_H_tot.diff().fillna(0)\n",
    "\n",
    "# hospitalisation baseline\n",
    "file_name = 'MZG_baseline.csv'\n",
    "types_dict = {'APR_MDC_key': str, 'week_number': int, 'day_number':int}\n",
    "hospitalization_baseline = pd.read_csv(os.path.join(abs_dir,rel_dir,file_name),index_col=[0,1,2,3],dtype=types_dict).squeeze()\n",
    "hospitalization_baseline = hospitalization_baseline.groupby(['APR_MDC_key','week_number','day_number']).mean()\n",
    "hospitalization_baseline = hospitalization_baseline.ewm(14).mean()\n",
    "\n",
    "# mean hospitalisation length\n",
    "file_name = 'MZG_residence_times.csv'\n",
    "types_dict = {'APR_MDC_key': str, 'age_group': str, 'stay_type':str}\n",
    "residence_times = pd.read_csv(os.path.join(abs_dir,rel_dir,file_name),index_col=[0,1,2],dtype=types_dict).squeeze()\n",
    "mean_residence_times = residence_times.groupby(by=['APR_MDC_key']).mean()\n",
    "mean_residence_times['covid']=10"
   ]
  },
  {
   "cell_type": "code",
   "execution_count": 77,
   "metadata": {},
   "outputs": [],
   "source": [
    "rel_dir = '../../data/PHM/interim/model_parameters'\n",
    "\n",
    "# Load samples\n",
    "file_name = 'PI_SAMPLES.json'\n",
    "f = open(os.path.join(abs_dir,rel_dir,file_name))\n",
    "samples_dict_PI = json.load(f)\n",
    "\n",
    "file_name = 'queuing_SAMPLES.json'\n",
    "f = open(os.path.join(abs_dir,rel_dir,file_name))\n",
    "samples_dict_queuing = json.load(f)\n",
    "\n",
    "file_name = 'queuing_SETTINGS.json'\n",
    "f = open(os.path.join(abs_dir,rel_dir,file_name))\n",
    "settings_queuing = json.load(f)"
   ]
  },
  {
   "attachments": {},
   "cell_type": "markdown",
   "metadata": {},
   "source": [
    "# models and functions\n"
   ]
  },
  {
   "attachments": {},
   "cell_type": "markdown",
   "metadata": {},
   "source": [
    "## models"
   ]
  },
  {
   "cell_type": "code",
   "execution_count": 63,
   "metadata": {},
   "outputs": [],
   "source": [
    "class Constrained_PI_Model(ODEModel):\n",
    "    \"\"\"\n",
    "    Test constrainted PI model\n",
    "    \"\"\"\n",
    "    \n",
    "    state_names = ['H','E']\n",
    "    parameter_names = ['covid_H','covid_dH']\n",
    "    parameter_stratified_names = ['Kp', 'Ki', 'alpha','gamma', 'covid_capacity']\n",
    "    dimension_names = ['MDC']\n",
    "    \n",
    "    @staticmethod\n",
    "    def integrate(t, H, E, covid_H, covid_dH, Kp, Ki, alpha, gamma, covid_capacity):\n",
    "\n",
    "        epsilon = 1-H\n",
    "        dE = epsilon - gamma*E\n",
    "        u = np.where(covid_H <= covid_capacity, Kp * np.where(E<=0,epsilon,0) + Ki * np.where(E>0,E,0), 0)\n",
    "        dH = -alpha*covid_dH + u\n",
    "\n",
    "        return dH, dE "
   ]
  },
  {
   "cell_type": "code",
   "execution_count": 64,
   "metadata": {},
   "outputs": [],
   "source": [
    "class PI_Model(ODEModel):\n",
    "    \"\"\"\n",
    "    Test PI model\n",
    "    \"\"\"\n",
    "    \n",
    "    state_names = ['H','E']\n",
    "    parameter_names = ['covid_H']\n",
    "    parameter_stratified_names = ['Kp', 'Ki', 'alpha', 'gamma']\n",
    "    dimension_names = ['MDC']\n",
    "    \n",
    "    @staticmethod\n",
    "    def integrate(t, H, E, covid_H, Kp, Ki, alpha, gamma):\n",
    "\n",
    "        epsilon = 1-H\n",
    "        dE = epsilon - gamma*E\n",
    "        u = Kp*epsilon + Ki*E\n",
    "        dH = -alpha*covid_H + u\n",
    "\n",
    "        return dH, dE "
   ]
  },
  {
   "cell_type": "code",
   "execution_count": 65,
   "metadata": {},
   "outputs": [],
   "source": [
    "class Queuing_Model(ODEModel):\n",
    "    \"\"\"\n",
    "    Test model for postponed health_care using a waiting queue before hospitalization\n",
    "    \"\"\"\n",
    "    \n",
    "    state_names = ['W','H','R','NR','X']\n",
    "    parameter_names = ['X_tot','f_UZG']\n",
    "    parameter_stratified_names = ['A','gamma','epsilon','sigma']\n",
    "    dimension_names = ['MDC']\n",
    "    \n",
    "    @staticmethod\n",
    "    def integrate(t, W, H, R, NR, X, A, X_tot, f_UZG, gamma, epsilon, sigma):\n",
    "        X_new = (X_tot-sum(H - (1/gamma*H))) * (sigma*(A+W))/sum(sigma*(A+W))\n",
    "\n",
    "        W_to_H = np.where(W>X_new,X_new,W)\n",
    "        W_to_NR = epsilon*(W-W_to_H)\n",
    "        A_to_H = np.where(A>(X_new-W_to_H),(X_new-W_to_H),A)\n",
    "        A_to_W = A-A_to_H\n",
    "        \n",
    "        dX = -X + X_new - W_to_H - A_to_H\n",
    "        dW = A_to_W - W_to_H - W_to_NR\n",
    "        dH = A_to_H + W_to_H - (1/gamma*H)\n",
    "        dR = (1/gamma*H)\n",
    "        dNR = W_to_NR\n",
    "        \n",
    "        return dW, dH, dR, dNR, dX"
   ]
  },
  {
   "attachments": {},
   "cell_type": "markdown",
   "metadata": {},
   "source": [
    "## TDF"
   ]
  },
  {
   "cell_type": "code",
   "execution_count": 49,
   "metadata": {},
   "outputs": [],
   "source": [
    "from functools import lru_cache\n",
    "\n",
    "class get_covid_H():\n",
    "\n",
    "    def __init__(self, data):\n",
    "        self.data = data\n",
    "\n",
    "    def H_wrapper_func(self, t, states, param):\n",
    "        return self.__call__(t)\n",
    "\n",
    "    @lru_cache()\n",
    "    def __call__(self, t):\n",
    "        t = pd.to_datetime(t).round(freq='D')\n",
    "        try:\n",
    "            covid_H = self.data.loc[t]\n",
    "        except:\n",
    "            covid_H = 0\n",
    "        return covid_H  "
   ]
  },
  {
   "cell_type": "code",
   "execution_count": 50,
   "metadata": {},
   "outputs": [],
   "source": [
    "class get_covid_dH():\n",
    "\n",
    "    def __init__(self, data):\n",
    "        self.data = data\n",
    "\n",
    "    def dH_wrapper_func(self, t, states, param):\n",
    "        return self.__call__(t)\n",
    "\n",
    "    @lru_cache\n",
    "    def __call__(self, t):\n",
    "        t = pd.to_datetime(t).round(freq='D')\n",
    "        try:\n",
    "            covid_dH = self.data.loc[t]\n",
    "        except:\n",
    "            covid_dH = 0\n",
    "\n",
    "        return covid_dH"
   ]
  },
  {
   "cell_type": "code",
   "execution_count": 51,
   "metadata": {},
   "outputs": [],
   "source": [
    "class get_A():\n",
    "    def __init__(self, baseline,mean_residence_times,df_covid_H_in):\n",
    "        self.baseline = baseline\n",
    "        self.mean_residence_times = mean_residence_times\n",
    "        self.df_covid_H_in = df_covid_H_in\n",
    "    \n",
    "    def A_wrapper_func(self, t, states, param, MDC,f_UZG):\n",
    "        return self.__call__(t,MDC,f_UZG)\n",
    "    \n",
    "    #@lru_cache()\n",
    "    def __call__(self, t, MDC,f_UZG):\n",
    "        covid_idx = int(np.where(MDC=='covid')[0])\n",
    "        MDC_without_covid = np.delete(MDC,covid_idx)\n",
    "\n",
    "        t_string = t.strftime('%Y-%m-%d')\n",
    "        week = t.isocalendar().week\n",
    "        day = t.isocalendar().weekday\n",
    "\n",
    "        A = (self.baseline.loc[(MDC_without_covid,week,day)]/self.mean_residence_times.loc[MDC_without_covid]).values\n",
    "        covid_H_in = self.df_covid_H_in.loc[t_string]*f_UZG\n",
    "        A = np.insert(A,covid_idx,covid_H_in)\n",
    "\n",
    "        return A "
   ]
  },
  {
   "attachments": {},
   "cell_type": "markdown",
   "metadata": {},
   "source": [
    "## init models"
   ]
  },
  {
   "cell_type": "code",
   "execution_count": 87,
   "metadata": {},
   "outputs": [
    {
     "data": {
      "text/plain": [
       "'2020-08-01'"
      ]
     },
     "execution_count": 87,
     "metadata": {},
     "output_type": "execute_result"
    }
   ],
   "source": []
  },
  {
   "cell_type": "code",
   "execution_count": 69,
   "metadata": {},
   "outputs": [],
   "source": [
    "# PI model\n",
    "PI_samples_per_MDC = samples_dict_PI['PI']\n",
    "MDC = list(PI_samples_per_MDC.keys())\n",
    "pars = PI_samples_per_MDC[MDC[0]]['parameters']\n",
    "\n",
    "param_dict = {}\n",
    "for param in pars:\n",
    "    param_array = np.array([])\n",
    "    for disease in MDC:\n",
    "        param_array = np.append(param_array,PI_samples_per_MDC[disease][param][0][0])\n",
    "    param_dict.update({param:param_array})\n",
    "\n",
    "param_dict.update({'covid_H':0})\n",
    "H_function = get_covid_H(df_covid_H_tot).H_wrapper_func\n",
    "time_dependent_functions = {'covid_H':H_function}\n",
    "\n",
    "init_states = {'H':np.ones(len(MDC))}\n",
    "coordinates={'MDC': MDC}\n",
    "\n",
    "PI_model = PI_Model(init_states,param_dict,coordinates,time_dependent_functions)\n",
    "\n",
    "# constrained PI model\n",
    "PI_constrained_samples_per_MDC = samples_dict_PI['constrained_PI']\n",
    "MDC = list(PI_constrained_samples_per_MDC.keys())\n",
    "pars = PI_constrained_samples_per_MDC[MDC[0]]['parameters']\n",
    "\n",
    "param_dict = {}\n",
    "for param in pars:\n",
    "    param_array = np.array([])\n",
    "    for disease in MDC:\n",
    "        param_array = np.append(param_array,PI_constrained_samples_per_MDC[disease][param][0][0])\n",
    "    param_dict.update({param:param_array})\n",
    "\n",
    "param_dict.update({'covid_dH':0,'covid_H':0})\n",
    "dH_function = get_covid_dH(df_covid_dH).dH_wrapper_func\n",
    "H_function = get_covid_H(df_covid_H_tot).H_wrapper_func\n",
    "time_dependent_functions = {'covid_dH':dH_function,'covid_H':H_function}\n",
    "\n",
    "init_states = {'H':np.ones(len(MDC))}\n",
    "coordinates={'MDC': MDC}\n",
    "\n",
    "constrained_PI_model = Constrained_PI_Model(init_states,param_dict,coordinates,time_dependent_functions)\n",
    "\n",
    "# Queuing model\n",
    "pars = samples_dict_queuing['parameters']\n",
    "\n",
    "param_dict = {}\n",
    "for param in pars:\n",
    "    if param == 'f_UZG':\n",
    "        param_dict.update({param:samples_dict_queuing['f_UZG'][0]})\n",
    "    else:\n",
    "        param_array = np.array([])\n",
    "        for n, disease in enumerate(MDC):\n",
    "            param_array = np.append(param_array,samples_dict_queuing[param][n][0])\n",
    "        param_dict.update({param:param_array})\n",
    "param_dict.update({'X_tot':1049})\n",
    "\n",
    "start_date = settings_queuing['start_calibration']\n",
    "covid_H_in = df_covid_H_in.loc[start_date]*f_UZG\n",
    "covid_H = df_covid_H_tot.loc[t_string]*f_UZG\n",
    "H_init = hospitalization_baseline.loc[(MDC_sim,start_date.isocalendar().week,start_date.isocalendar().weekday)].values\n",
    "H_init = np.insert(H_init,np.where(MDC_sim=='covid')[0],covid_H)\n",
    "A = H_init/mean_residence_times.loc[MDC_sim]\n",
    "\n",
    "param_dict.update({'A':0,'covid_H':0})\n",
    "dH_function = get_covid_dH(df_covid_dH).dH_wrapper_func\n",
    "H_function = get_covid_H(df_covid_H_tot).H_wrapper_func\n",
    "time_dependent_functions = {'covid_dH':dH_function,'covid_H':H_function}\n",
    "\n",
    "init_states = {'H':np.ones(len(MDC))}\n",
    "coordinates={'MDC': MDC}\n",
    "\n",
    "constrained_PI_model = Constrained_PI_Model(init_states,param_dict,coordinates,time_dependent_functions)"
   ]
  },
  {
   "cell_type": "code",
   "execution_count": 85,
   "metadata": {},
   "outputs": [
    {
     "data": {
      "text/plain": [
       "29"
      ]
     },
     "execution_count": 85,
     "metadata": {},
     "output_type": "execute_result"
    }
   ],
   "source": [
    "len(samples_dict_queuing['sigma'])"
   ]
  },
  {
   "cell_type": "code",
   "execution_count": 76,
   "metadata": {},
   "outputs": [
    {
     "data": {
      "text/plain": [
       "['f_UZG', 'epsilon', 'sigma']"
      ]
     },
     "execution_count": 76,
     "metadata": {},
     "output_type": "execute_result"
    }
   ],
   "source": [
    "samples_dict_queuing['parameters']"
   ]
  },
  {
   "cell_type": "code",
   "execution_count": 60,
   "metadata": {},
   "outputs": [
    {
     "data": {
      "text/plain": [
       "7.53417755512082e-05"
      ]
     },
     "execution_count": 60,
     "metadata": {},
     "output_type": "execute_result"
    }
   ],
   "source": [
    "PI_samples_per_MDC[disease][param][0][0]"
   ]
  },
  {
   "cell_type": "code",
   "execution_count": null,
   "metadata": {},
   "outputs": [],
   "source": [
    "model = model_class(init_states,params_dict,coordinates,time_dependent_parameters=time_dependent_parameters)"
   ]
  }
 ],
 "metadata": {
  "kernelspec": {
   "display_name": "COVID_MODEL",
   "language": "python",
   "name": "python3"
  },
  "language_info": {
   "codemirror_mode": {
    "name": "ipython",
    "version": 3
   },
   "file_extension": ".py",
   "mimetype": "text/x-python",
   "name": "python",
   "nbconvert_exporter": "python",
   "pygments_lexer": "ipython3",
   "version": "3.10.6"
  },
  "orig_nbformat": 4
 },
 "nbformat": 4,
 "nbformat_minor": 2
}
